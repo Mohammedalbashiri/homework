{
 "cells": [
  {
   "cell_type": "markdown",
   "id": "8ec4c9b2",
   "metadata": {},
   "source": [
    "## 1- First Problem\n",
    "- This Problem showing the number of turkish car plate for who does'nt knows. "
   ]
  },
  {
   "cell_type": "code",
   "execution_count": 24,
   "id": "a5f09ffa",
   "metadata": {},
   "outputs": [
    {
     "name": "stdout",
     "output_type": "stream",
     "text": [
      "What is your car plate number 1\n",
      "Adana\n"
     ]
    }
   ],
   "source": [
    "n = int(input(\"What is your car plate number \"))\n",
    "if n == 1:\n",
    "    print(\"Adana\")\n",
    "elif n == 2:\n",
    "    print(\"adıyaman\")\n",
    "elif n == 34:\n",
    "    print(\"Istanbul\")\n",
    "elif n == 78:\n",
    "    print(\"Karabuk\")\n",
    "else :\n",
    "    print(\"please enter a number again\")"
   ]
  },
  {
   "cell_type": "markdown",
   "id": "fc323174",
   "metadata": {},
   "source": [
    "## 2- Second Problem \n",
    "- This problem can convert the temprature degree from (C)Celsius to (F)Fahrenheit or from (F)Fahrenheit to(C)Celsius."
   ]
  },
  {
   "cell_type": "code",
   "execution_count": 56,
   "id": "46de30ef",
   "metadata": {
    "scrolled": true
   },
   "outputs": [
    {
     "name": "stdout",
     "output_type": "stream",
     "text": [
      "degree: 25\n",
      "(F)Fahrenheit or (C)Celsius? f\n",
      "degree in C: -3.888888888888889\n"
     ]
    }
   ],
   "source": [
    "units = (\"F\",\"C\")\n",
    "while True:\n",
    "    try:\n",
    "        degree = int(input(\"degree: \"))\n",
    "    except ValueError:\n",
    "        print(\"Error Value\")\n",
    "        continue\n",
    "    unit = input(\"(F)Fahrenheit or (C)Celsius? \")\n",
    "    while unit.upper() not in units:\n",
    "        print(\"Error Value\")\n",
    "        unit = input(\"(F)Fahrenheit or (C)Celsius? \")\n",
    "    if unit.upper() == \"F\":\n",
    "        degree = (degree - 32)*5/9\n",
    "        print(\"degree in C:\",degree)\n",
    "        break\n",
    "    elif unit.upper() == \"C\":\n",
    "        degree = (degree*1.8)+32\n",
    "        print(\"degree in F\",degree)\n",
    "        break"
   ]
  },
  {
   "cell_type": "markdown",
   "id": "b8a8bc90",
   "metadata": {},
   "source": [
    "## 3- Last Problem\n",
    "- This Problem can reversed any numbers."
   ]
  },
  {
   "cell_type": "code",
   "execution_count": 63,
   "id": "7b56033f",
   "metadata": {},
   "outputs": [
    {
     "name": "stdout",
     "output_type": "stream",
     "text": [
      "Enter numbers 6544\n",
      "Reversed Number: 4456\n"
     ]
    }
   ],
   "source": [
    "num = int(input(\"Enter numbers \"))\n",
    "reversed_num = 0\n",
    "while num != 0:\n",
    "    digit = num % 10\n",
    "    reversed_num = reversed_num * 10 + digit\n",
    "    num //= 10\n",
    "print(\"Reversed Number: \" + str(reversed_num))"
   ]
  }
 ],
 "metadata": {
  "kernelspec": {
   "display_name": "Python 3 (ipykernel)",
   "language": "python",
   "name": "python3"
  },
  "language_info": {
   "codemirror_mode": {
    "name": "ipython",
    "version": 3
   },
   "file_extension": ".py",
   "mimetype": "text/x-python",
   "name": "python",
   "nbconvert_exporter": "python",
   "pygments_lexer": "ipython3",
   "version": "3.9.12"
  }
 },
 "nbformat": 4,
 "nbformat_minor": 5
}
